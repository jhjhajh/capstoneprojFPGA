{
 "cells": [
  {
   "cell_type": "markdown",
   "source": [
    "### Import relevant libraries and files"
   ],
   "metadata": {}
  },
  {
   "cell_type": "code",
   "execution_count": null,
   "source": [
    "from pynq import allocate\n",
    "from pynq import Overlay\n",
    "import numpy as np\n",
    "import pynq.lib.dma\n",
    "import time\n",
    "import pynq\n",
    "import pandas as pd"
   ],
   "outputs": [],
   "metadata": {}
  },
  {
   "cell_type": "code",
   "execution_count": null,
   "source": [
    "#import weights and bias from trained model if unable to hardcode import test data\n",
    "# weight_0 = np.load('weight_0.npy')\n"
   ],
   "outputs": [],
   "metadata": {}
  },
  {
   "cell_type": "code",
   "execution_count": null,
   "source": [
    "# import test data\n",
    "test = np.loadtxt(\"dataset/test.csv\", delimiter=',', skiprows=1, usecols=np.arange(0,11))\n",
    "data_label = pd.read_csv(\"dataset/test.csv\")['Activity']"
   ],
   "outputs": [],
   "metadata": {}
  },
  {
   "cell_type": "code",
   "execution_count": null,
   "source": [
    "test_size = 300\n",
    "np.random.seed(2)\n",
    "a = np.arange(2000)\n",
    "np.random.shuffle(a)\n",
    "a = a[:test_size]\n",
    "testset = test[a]\n",
    "testset.shape"
   ],
   "outputs": [],
   "metadata": {}
  },
  {
   "cell_type": "markdown",
   "source": [
    "### FPGA"
   ],
   "metadata": {}
  },
  {
   "cell_type": "code",
   "execution_count": null,
   "source": [
    "# load bitstream inside FPGA\n",
    "overlay = Overlay('bitstream.bit')  \n",
    "# dma module\n",
    "dma = overlay.axi_dma_0    \n",
    "input_buffer0 = allocate(shape=(12,), dtype=np.float32)\n",
    "input_buffer1 = allocate(shape=(48,), dtype=np.float32)\n",
    "input_buffer2 = allocate(shape=(36,), dtype=np.float32)\n",
    "input_buffer3 = allocate(shape=(24,), dtype=np.float32)\n",
    "input_buffer4 = allocate(shape=(12,), dtype=np.float32)\n",
    "input_buffer5 = allocate(shape=(6,), dtype=np.float32)\n",
    "output_buffer0 = allocate(shape=(6,), dtype=np.float32)"
   ],
   "outputs": [],
   "metadata": {}
  },
  {
   "cell_type": "code",
   "execution_count": null,
   "source": [
    "import asyncio\n",
    "async_result = np.array([0.0, 0.0, 0.0, 0.0, 0.0, 0.0])\n",
    "\n",
    "async def calculation():\n",
    "    global async_result\n",
    "    dma.sendchannel.transfer(input_buffer0)\n",
    "    dma.recvchannel.transfer(output_buffer0)\n",
    "    await asyncio.ensure_future(dma.sendchannel.wait_async())\n",
    "    await asyncio.ensure_future(dma.recvchannel.wait_async())\n",
    "    async_result = np.row_stack((async_result, output_buffer0))"
   ],
   "outputs": [],
   "metadata": {}
  },
  {
   "cell_type": "code",
   "execution_count": null,
   "source": [
    "# fpga calculation\n",
    "def fpga_evaluate_async(testcount, test):\n",
    "    loop = asyncio.get_event_loop()\n",
    "    global async_result\n",
    "    async_result = np.array([0.0, 0.0, 0.0, 0.0, 0.0, 0.0])\n",
    "    for i in range(test_size):\n",
    "        for j in range(11):\n",
    "            input_buffer0[j] = test[i][j];\n",
    "        loop.run_until_complete(calculation())\n",
    "    return async_result[1:]"
   ],
   "outputs": [],
   "metadata": {}
  },
  {
   "cell_type": "code",
   "execution_count": null,
   "source": [
    "def fpga_evaluate(testcount, test):\n",
    "    result = np.array([0.0, 0.0, 0.0, 0.0, 0.0, 0.0])\n",
    "    for i in range(test_size):\n",
    "        for j in range(11):\n",
    "            input_buffer0[j] = test[i][j];\n",
    "        dma.sendchannel.transfer(input_buffer0)\n",
    "        dma.recvchannel.transfer(output_buffer0)\n",
    "        dma.sendchannel.wait()\n",
    "        dma.recvchannel.wait()\n",
    "        result = np.row_stack((result, output_buffer0))\n",
    "    return result[1:]"
   ],
   "outputs": [],
   "metadata": {}
  },
  {
   "cell_type": "markdown",
   "source": [
    "### Ultra96"
   ],
   "metadata": {}
  },
  {
   "cell_type": "code",
   "execution_count": null,
   "source": [
    "# evaluation using cpu\n",
    "buffer_0 = np.zeros(64);\n",
    "buffer_1 = np.zeros(64);\n",
    "buffer_2 = np.zeros(64);\n",
    "buffer_3 = np.zeros(6);\n",
    "buffer_4 = np.zeros(6);\n",
    "\n",
    "\n",
    "def cpu_evaluate(testcount, test):\n",
    "    result = np.array([0.0, 0.0, 0.0, 0.0, 0.0, 0.0])\n",
    "    for i in range(testcount):\n",
    "        for j in range(64):\n",
    "            buffer_0[j] = np.dot(test[i], weight_0[:, [j]]) + bias_0[j]\n",
    "            if buffer_0[j] < 0:\n",
    "                buffer_0[j] = 0\n",
    "        for j in range(64):\n",
    "            buffer_1[j] = np.dot(buffer_0, weight_1[:, [j]]) + bias_1[j]\n",
    "            if buffer_1[j] < 0:\n",
    "                buffer_1[j] = 0\n",
    "        for j in range(64):\n",
    "            buffer_2[j] = np.dot(buffer_1, weight_2[:, [j]]) + bias_2[j]\n",
    "            if buffer_2[j] < 0:\n",
    "                buffer_2[j] = 0\n",
    "        for j in range(6):\n",
    "            buffer_3[j] = np.dot(buffer_2, weight_3[:, [j]]) + bias_3[j]\n",
    "        result = np.row_stack((result, buffer_3))\n",
    "    return result[1:]"
   ],
   "outputs": [],
   "metadata": {}
  },
  {
   "cell_type": "markdown",
   "source": [
    "### Power Metric"
   ],
   "metadata": {}
  },
  {
   "cell_type": "code",
   "execution_count": null,
   "source": [
    "rails = pynq.get_rails()\n",
    "recorder1 = pynq.DataRecorder(rails['PSINT_FP'].power, rails['PSPLL'].power)\n",
    "recorder2 = pynq.DataRecorder(rails['PSINT_FP'].power, rails['PSPLL'].power)"
   ],
   "outputs": [],
   "metadata": {}
  },
  {
   "cell_type": "markdown",
   "source": [
    "### FPGA Performance"
   ],
   "metadata": {}
  },
  {
   "cell_type": "code",
   "execution_count": null,
   "source": [
    "# record time taken for fpga to predict and present as graph\n",
    "fpga_time = time.time()\n",
    "\n",
    "recorder1.reset()\n",
    "with recorder1.record(0.00001):\n",
    "    time.sleep(1)\n",
    "    recorder1.mark()\n",
    "    timestart = time.time()\n",
    "    fpga_res = fpga_evaluate(test_size, testset)\n",
    "    timeend = time.time()\n",
    "    recorder1.mark()\n",
    "    time.sleep(1)\n",
    "    fpga_time = timeend-timestart\n",
    "print('Time taken = ' + str(fpga_time))    \n",
    "recorder1.frame.plot(subplots=True)\n",
    "fpga_res = np.argmax(fpga_res, axis=-1)"
   ],
   "outputs": [],
   "metadata": {}
  },
  {
   "cell_type": "code",
   "execution_count": null,
   "source": [
    "fpga_async_time = time.time()\n",
    "\n",
    "recorder1.reset()\n",
    "with recorder1.record(0.01):\n",
    "    time.sleep(1)\n",
    "    recorder1.mark()\n",
    "    timestart = time.time()\n",
    "    fpga_res_async = fpga_evaluate_async(test_size, testset)\n",
    "    timeend = time.time()\n",
    "    recorder1.mark()\n",
    "    time.sleep(1)\n",
    "    fpga_async_time = timeend-timestart\n",
    "print('Time taken = ' + str(fpga_async_time))    \n",
    "recorder1.frame.plot(subplots=True)\n",
    "fpga_res_async = np.argmax(fpga_res_async, axis=-1)"
   ],
   "outputs": [],
   "metadata": {}
  },
  {
   "cell_type": "markdown",
   "source": [
    "### CPU Performance"
   ],
   "metadata": {}
  },
  {
   "cell_type": "code",
   "execution_count": null,
   "source": [
    "# record time taken for cpu to predict and present as graph\n",
    "cpu_time = time.time()\n",
    "\n",
    "recorder2.reset()\n",
    "with recorder2.record(0.01):\n",
    "    time.sleep(1)\n",
    "    recorder2.mark()\n",
    "    timestart = time.time()\n",
    "    cpu_res = cpu_evaluate(test_size, testset)\n",
    "    timeend = time.time()\n",
    "    recorder2.mark()\n",
    "    time.sleep(1)\n",
    "    cpu_time = timeend-timestart\n",
    "print('Time taken = ' + str(cpu_time))    \n",
    "recorder2.frame.plot(subplots=True)\n",
    "cpu_res = np.argmax(cpu_res, axis=-1)"
   ],
   "outputs": [],
   "metadata": {}
  },
  {
   "cell_type": "markdown",
   "source": [
    "### Speed and Accuracy"
   ],
   "metadata": {}
  },
  {
   "cell_type": "markdown",
   "source": [
    "### Synchronous "
   ],
   "metadata": {}
  },
  {
   "cell_type": "code",
   "execution_count": null,
   "source": [
    "print('Results matched = ' + str(np.sum((cpu_res == fpga_res).astype(int))/cpu_res.shape[0] * 100) + '%')\n",
    "print('Speedup factor = ' + str(cpu_time/fpga_time))"
   ],
   "outputs": [],
   "metadata": {}
  },
  {
   "cell_type": "code",
   "execution_count": null,
   "source": [
    "labels = np.array(['LAYING', 'SITTING', 'STANDING', 'WALKING', 'WALKING_DOWNSTAIRS',\n",
    "       'WALKING_UPSTAIRS'])\n",
    "decoded_predictions = labels[fpga_res]"
   ],
   "outputs": [],
   "metadata": {}
  },
  {
   "cell_type": "code",
   "execution_count": null,
   "source": [
    "from IPython.display import display\n",
    "dataset = pd.DataFrame({'FPGA predictions': decoded_predictions, 'Actual test label': data_label[a]}).reset_index(drop=True)\n",
    "pd.set_option('display.max_rows', 300)\n",
    "pd.set_option('display.height', 300)\n",
    "display(dataset)"
   ],
   "outputs": [],
   "metadata": {}
  },
  {
   "cell_type": "code",
   "execution_count": null,
   "source": [
    "print('Results matched = ' + str(np.sum((decoded_predictions == data_label[a]).astype(int))/decoded_predictions.shape[0] * 100) + '%')"
   ],
   "outputs": [],
   "metadata": {}
  },
  {
   "cell_type": "markdown",
   "source": [
    "### Asynchronous"
   ],
   "metadata": {}
  },
  {
   "cell_type": "code",
   "execution_count": null,
   "source": [
    "print('Results matched = ' + str(np.sum((cpu_res == fpga_res_async).astype(int))/cpu_res.shape[0] * 100) + '%')\n",
    "print('Speedup factor = ' + str(cpu_time/fpga_async_time))"
   ],
   "outputs": [],
   "metadata": {}
  },
  {
   "cell_type": "code",
   "execution_count": null,
   "source": [
    "from pynq import ps\n",
    "ps.Clocks.fclk0_mhz = 50\n",
    "ps.Clocks.fclk1_mhz = 50\n",
    "ps.Clocks.fclk2_mhz = 50\n",
    "ps.Clocks.fclk3_mhz = 50"
   ],
   "outputs": [],
   "metadata": {}
  },
  {
   "cell_type": "code",
   "execution_count": null,
   "source": [
    "recorder1.reset()\n",
    "with recorder1.record(0.01):\n",
    "    time.sleep(1)\n",
    "    recorder1.mark()\n",
    "    timestart = time.time()\n",
    "    fpga_res = fpga_evaluate(test_size, testset)\n",
    "    timeend = time.time()\n",
    "    recorder1.mark()\n",
    "    time.sleep(1)\n",
    "    fpga_time = timeend-timestart\n",
    "print('Time taken = ' + str(fpga_time))    \n",
    "recorder1.frame.plot(subplots=True)\n",
    "fpga_res = np.argmax(fpga_res, axis=-1)"
   ],
   "outputs": [],
   "metadata": {}
  },
  {
   "cell_type": "code",
   "execution_count": null,
   "source": [
    "ps.Clocks.fclk0_mhz"
   ],
   "outputs": [],
   "metadata": {}
  },
  {
   "cell_type": "code",
   "execution_count": null,
   "source": [
    "from pynq import pl\n",
    "pl.HWH"
   ],
   "outputs": [],
   "metadata": {}
  },
  {
   "cell_type": "code",
   "execution_count": null,
   "source": [
    "ps.Clocks.fclk0_mhz = 50\n",
    "ps.Clocks.fclk1_mhz = 50\n",
    "ps.Clocks.fclk2_mhz = 50\n",
    "ps.Clocks.fclk3_mhz = 50\n",
    "rails = pynq.get_rails()\n",
    "rails"
   ],
   "outputs": [],
   "metadata": {}
  },
  {
   "cell_type": "code",
   "execution_count": null,
   "source": [
    "ps.Clocks.fclk0_mhz = 100\n",
    "ps.Clocks.fclk1_mhz = 100\n",
    "ps.Clocks.fclk2_mhz = 100\n",
    "ps.Clocks.fclk3_mhz = 100\n",
    "rails = pynq.get_rails()\n",
    "rails"
   ],
   "outputs": [],
   "metadata": {}
  }
 ],
 "metadata": {
  "kernelspec": {
   "display_name": "Python 3",
   "language": "python",
   "name": "python3"
  },
  "language_info": {
   "codemirror_mode": {
    "name": "ipython",
    "version": 3
   },
   "file_extension": ".py",
   "mimetype": "text/x-python",
   "name": "python",
   "nbconvert_exporter": "python",
   "pygments_lexer": "ipython3",
   "version": "3.7.6"
  }
 },
 "nbformat": 4,
 "nbformat_minor": 4
}